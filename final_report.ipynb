{
 "cells": [
  {
   "cell_type": "markdown",
   "id": "7c9298ea-d17c-4b5a-8bc6-6cf1727ade7d",
   "metadata": {},
   "source": [
    "# Telco Churn Project\n",
    "## Final Report"
   ]
  },
  {
   "cell_type": "markdown",
   "id": "3bc23e11-8e2e-4a48-a6bb-78996e908d56",
   "metadata": {},
   "source": [
    "## Goals\n",
    "* Discover account features that provide predictve value for customer churn\n",
    "* Provide a model for use in predicting which customers will likely churn\n",
    "* Provide recomendations to stakeholders for reducing churn"
   ]
  },
  {
   "cell_type": "markdown",
   "id": "771ff34b-4b39-46ec-9e72-893a4ed8b369",
   "metadata": {},
   "source": [
    "## Imports"
   ]
  },
  {
   "cell_type": "code",
   "execution_count": 1,
   "id": "938f8785-6d6f-4df7-b121-6578d6cd045e",
   "metadata": {},
   "outputs": [],
   "source": [
    "import warnings\n",
    "warnings.filterwarnings(\"ignore\")\n",
    "import pandas as pd\n",
    "import numpy as np\n",
    "import math\n",
    "import matplotlib.pyplot as plt\n",
    "import seaborn as sns\n",
    "from pydataset import data\n",
    "import scipy.stats as stats\n",
    "import seaborn as sns\n",
    "import env\n",
    "import os\n",
    "import sklearn\n",
    "from sklearn.metrics import accuracy_score\n",
    "from sklearn.metrics import recall_score\n",
    "from sklearn.metrics import mutual_info_score\n",
    "from sklearn.model_selection import train_test_split\n",
    "from sklearn.neighbors import KNeighborsClassifier\n",
    "from sklearn.linear_model import LogisticRegression\n",
    "from sklearn.tree import DecisionTreeClassifier, plot_tree\n",
    "from sklearn.ensemble import RandomForestClassifier\n",
    "from sklearn.model_selection import RandomizedSearchCV\n",
    "from sklearn.ensemble import GradientBoostingClassifier\n",
    "from sklearn.metrics import classification_report, confusion_matrix, plot_confusion_matrix\n",
    "import acquire\n",
    "import prepare\n",
    "import explore"
   ]
  },
  {
   "cell_type": "markdown",
   "id": "d2a7890d-065c-48df-9653-7e35f206e9a3",
   "metadata": {},
   "source": [
    "## Acquire\n",
    "\n",
    "* Data acquired from the Codeup DB Server\n",
    "* It contained 7043 rows and 25 columns before cleaning\n",
    "* The data was aquired on 25 APR 2023\n",
    "* Each row represents a unique Telco customer account\n",
    "* Each column represents a feature of those accounts\n"
   ]
  },
  {
   "cell_type": "markdown",
   "id": "c910c06f-78c6-43eb-8448-086c4d8e05da",
   "metadata": {
    "tags": []
   },
   "source": [
    "## Prepare\n",
    "* This step involved to iterations\n",
    "* Iniitial preperation\n",
    "    * Removed columns that did not contain useful information\n",
    "    * Checked that column data types were appropriate\n",
    "        * The total_charges column was modified from a string to a float\n",
    "    * Checked for null values\n",
    "        * Null values in total_charges were replaced with a '0', because they represented new accounts that had not been charged yet\n",
    "    * Dummy columns were created for modeling\n",
    "    * Renamed columns to promote readability\n",
    "* Second iteration - post evaluation\n",
    "    * Removed all feature columns that did not provide predictive value\n",
    "    * Removed duplicated features \n",
    "    * Removed dummy columns that were not needed\n",
    "    * Outliers have not been removed for any iteration of the project"
   ]
  },
  {
   "cell_type": "markdown",
   "id": "f0e59c79-77be-4df4-8068-f920443a89f1",
   "metadata": {},
   "source": [
    "### Data Dictionary"
   ]
  },
  {
   "cell_type": "markdown",
   "id": "32facd0e-082e-4cff-a186-c2534977de78",
   "metadata": {},
   "source": [
    "| Feature | Key | Data Type | Definition |\n",
    "|---|---|---|---|\n",
    "| customer_id | Unique ID | object | identifier for each individual customer's account |\n",
    "| gender | Male/Female | object | Whether the client is a female or a male |\n",
    "| senior_citizen | 1 = Yes 2 = No | int64 | Whether the client is a senior citizen or not |\n",
    "| partner | Yes or No | object | Whether the client has a partner or not |\n",
    "| dependents | Yes or No | object | Whether the client has dependents or not |\n",
    "| tenure | Months | int64 | Number of months the customer has stayed with the company |\n",
    "| phone_service | Yes or No | object | Whether the client has a phone service or not |\n",
    "| multiple_lines | No phone service <br>No<br>Yes | object | Whether the client has multiple lines or not |\n",
    "| online_security | 7043 non-null | object | Whether the client has online security or not |\n",
    "| online_backup | 7043 non-null | object | Whether the client has online backup or not |\n",
    "| device_protection | 7043 non-null | object | Whether the client has device protection or not |\n",
    "| tech_support | No internet service<br>No<br>Yes | object | Whether the client has tech support or not |\n",
    "| streaming_tv | No internet service<br>No<br>Yes | object | Whether the client has streaming TV or not |\n",
    "| streaming_movies | No internet service<br>No<br>Yes | object | Whether the client has streaming movies or not |\n",
    "| paperless_billing | Yes or No | object | Whether the client has paperless billing or not |\n",
    "| monthly_charges | in USD | float64 | The amount charged to the customer monthly |\n",
    "| total_charges | in USD | object | The total amount charged to the customer |\n",
    "| churn (Target Feature) | Yes or No | object | Has the client churned or not |\n",
    "| contract_type | Month-to-Month<br>One year<br>Two year | object | Indicates the customer’s current contract type |\n",
    "| internet_service_type | DSL<br>Fiber optic<br>No | object | Whether the client is subscribed to Internet service with the company |\n",
    "| payment_type | Electronic check<br>Mailed check<br>Bank transfer (automatic)<br>Credit Card (automatic) | object | The customer’s payment method |\n",
    "|  |  |  |  |"
   ]
  },
  {
   "cell_type": "markdown",
   "id": "7b4d21e0-248c-459f-848c-ba82b6dc612b",
   "metadata": {},
   "source": [
    "### Bring in Data for Exploration"
   ]
  },
  {
   "cell_type": "code",
   "execution_count": 2,
   "id": "82b55ba1-fa0b-4898-8161-35c3b922e48e",
   "metadata": {},
   "outputs": [],
   "source": [
    "# Acquiring data\n",
    "df = acquire.get_telco_data()\n",
    "# Running initial preperation for exploration\n",
    "df = prepare.prep_telco(df)\n",
    "# Split\n",
    "train, validate, test = prepare.split_data(df,'churn')"
   ]
  },
  {
   "cell_type": "markdown",
   "id": "d20ea549-d03b-4671-aaf0-2fac30ea4d0e",
   "metadata": {},
   "source": [
    "### Sneak Peak at the Data\n"
   ]
  },
  {
   "cell_type": "code",
   "execution_count": 3,
   "id": "e52be9b6-cd07-43ed-a13b-48c4f8b9a659",
   "metadata": {},
   "outputs": [
    {
     "data": {
      "text/html": [
       "<div>\n",
       "<style scoped>\n",
       "    .dataframe tbody tr th:only-of-type {\n",
       "        vertical-align: middle;\n",
       "    }\n",
       "\n",
       "    .dataframe tbody tr th {\n",
       "        vertical-align: top;\n",
       "    }\n",
       "\n",
       "    .dataframe thead th {\n",
       "        text-align: right;\n",
       "    }\n",
       "</style>\n",
       "<table border=\"1\" class=\"dataframe\">\n",
       "  <thead>\n",
       "    <tr style=\"text-align: right;\">\n",
       "      <th></th>\n",
       "      <th>Unnamed: 0</th>\n",
       "      <th>customer_id</th>\n",
       "      <th>gender</th>\n",
       "      <th>senior_citizen</th>\n",
       "      <th>partner</th>\n",
       "      <th>dependents</th>\n",
       "      <th>tenure</th>\n",
       "      <th>phone_service</th>\n",
       "      <th>multiple_lines</th>\n",
       "      <th>online_security</th>\n",
       "      <th>...</th>\n",
       "      <th>streaming_movies_Yes</th>\n",
       "      <th>paperless_billing_Yes</th>\n",
       "      <th>churn_Yes</th>\n",
       "      <th>contract_type_One year</th>\n",
       "      <th>contract_type_Two year</th>\n",
       "      <th>fiber_optic</th>\n",
       "      <th>internet_service_type_None</th>\n",
       "      <th>payment_type_Credit card (automatic)</th>\n",
       "      <th>electronic_check</th>\n",
       "      <th>payment_type_Mailed check</th>\n",
       "    </tr>\n",
       "  </thead>\n",
       "  <tbody>\n",
       "    <tr>\n",
       "      <th>5911</th>\n",
       "      <td>5911</td>\n",
       "      <td>8319-QBEHW</td>\n",
       "      <td>Male</td>\n",
       "      <td>0</td>\n",
       "      <td>No</td>\n",
       "      <td>Yes</td>\n",
       "      <td>26</td>\n",
       "      <td>No</td>\n",
       "      <td>No phone service</td>\n",
       "      <td>No</td>\n",
       "      <td>...</td>\n",
       "      <td>0</td>\n",
       "      <td>1</td>\n",
       "      <td>0</td>\n",
       "      <td>1</td>\n",
       "      <td>0</td>\n",
       "      <td>0</td>\n",
       "      <td>0</td>\n",
       "      <td>0</td>\n",
       "      <td>0</td>\n",
       "      <td>0</td>\n",
       "    </tr>\n",
       "    <tr>\n",
       "      <th>2479</th>\n",
       "      <td>2479</td>\n",
       "      <td>3547-LQRIK</td>\n",
       "      <td>Female</td>\n",
       "      <td>0</td>\n",
       "      <td>Yes</td>\n",
       "      <td>No</td>\n",
       "      <td>47</td>\n",
       "      <td>Yes</td>\n",
       "      <td>Yes</td>\n",
       "      <td>No internet service</td>\n",
       "      <td>...</td>\n",
       "      <td>0</td>\n",
       "      <td>0</td>\n",
       "      <td>0</td>\n",
       "      <td>1</td>\n",
       "      <td>0</td>\n",
       "      <td>0</td>\n",
       "      <td>1</td>\n",
       "      <td>0</td>\n",
       "      <td>1</td>\n",
       "      <td>0</td>\n",
       "    </tr>\n",
       "    <tr>\n",
       "      <th>5889</th>\n",
       "      <td>5889</td>\n",
       "      <td>8280-MQRQN</td>\n",
       "      <td>Female</td>\n",
       "      <td>0</td>\n",
       "      <td>No</td>\n",
       "      <td>No</td>\n",
       "      <td>1</td>\n",
       "      <td>Yes</td>\n",
       "      <td>No</td>\n",
       "      <td>No</td>\n",
       "      <td>...</td>\n",
       "      <td>0</td>\n",
       "      <td>1</td>\n",
       "      <td>1</td>\n",
       "      <td>0</td>\n",
       "      <td>0</td>\n",
       "      <td>0</td>\n",
       "      <td>0</td>\n",
       "      <td>0</td>\n",
       "      <td>0</td>\n",
       "      <td>1</td>\n",
       "    </tr>\n",
       "  </tbody>\n",
       "</table>\n",
       "<p>3 rows × 40 columns</p>\n",
       "</div>"
      ],
      "text/plain": [
       "      Unnamed: 0 customer_id  gender  senior_citizen partner dependents  \\\n",
       "5911        5911  8319-QBEHW    Male               0      No        Yes   \n",
       "2479        2479  3547-LQRIK  Female               0     Yes         No   \n",
       "5889        5889  8280-MQRQN  Female               0      No         No   \n",
       "\n",
       "      tenure phone_service    multiple_lines      online_security  ...  \\\n",
       "5911      26            No  No phone service                   No  ...   \n",
       "2479      47           Yes               Yes  No internet service  ...   \n",
       "5889       1           Yes                No                   No  ...   \n",
       "\n",
       "     streaming_movies_Yes paperless_billing_Yes churn_Yes  \\\n",
       "5911                    0                     1         0   \n",
       "2479                    0                     0         0   \n",
       "5889                    0                     1         1   \n",
       "\n",
       "     contract_type_One year contract_type_Two year fiber_optic  \\\n",
       "5911                      1                      0           0   \n",
       "2479                      1                      0           0   \n",
       "5889                      0                      0           0   \n",
       "\n",
       "      internet_service_type_None  payment_type_Credit card (automatic)  \\\n",
       "5911                           0                                     0   \n",
       "2479                           1                                     0   \n",
       "5889                           0                                     0   \n",
       "\n",
       "     electronic_check payment_type_Mailed check  \n",
       "5911                0                         0  \n",
       "2479                1                         0  \n",
       "5889                0                         1  \n",
       "\n",
       "[3 rows x 40 columns]"
      ]
     },
     "execution_count": 3,
     "metadata": {},
     "output_type": "execute_result"
    }
   ],
   "source": [
    "train.head(3)"
   ]
  },
  {
   "cell_type": "markdown",
   "id": "fc2c096e-d449-4973-82a6-b9631eaff7a4",
   "metadata": {},
   "source": [
    "### Summary of Data"
   ]
  },
  {
   "cell_type": "code",
   "execution_count": 4,
   "id": "753af9a8-b82b-47e2-9076-326184f44731",
   "metadata": {},
   "outputs": [
    {
     "data": {
      "text/html": [
       "<div>\n",
       "<style scoped>\n",
       "    .dataframe tbody tr th:only-of-type {\n",
       "        vertical-align: middle;\n",
       "    }\n",
       "\n",
       "    .dataframe tbody tr th {\n",
       "        vertical-align: top;\n",
       "    }\n",
       "\n",
       "    .dataframe thead th {\n",
       "        text-align: right;\n",
       "    }\n",
       "</style>\n",
       "<table border=\"1\" class=\"dataframe\">\n",
       "  <thead>\n",
       "    <tr style=\"text-align: right;\">\n",
       "      <th></th>\n",
       "      <th>Unnamed: 0</th>\n",
       "      <th>senior_citizen</th>\n",
       "      <th>tenure</th>\n",
       "      <th>monthly_charges</th>\n",
       "      <th>total_charges</th>\n",
       "      <th>gender_Male</th>\n",
       "      <th>partner_Yes</th>\n",
       "      <th>dependents_Yes</th>\n",
       "      <th>tech_support_No internet service</th>\n",
       "      <th>tech_support_Yes</th>\n",
       "      <th>...</th>\n",
       "      <th>streaming_movies_Yes</th>\n",
       "      <th>paperless_billing_Yes</th>\n",
       "      <th>churn_Yes</th>\n",
       "      <th>contract_type_One year</th>\n",
       "      <th>contract_type_Two year</th>\n",
       "      <th>fiber_optic</th>\n",
       "      <th>internet_service_type_None</th>\n",
       "      <th>payment_type_Credit card (automatic)</th>\n",
       "      <th>electronic_check</th>\n",
       "      <th>payment_type_Mailed check</th>\n",
       "    </tr>\n",
       "  </thead>\n",
       "  <tbody>\n",
       "    <tr>\n",
       "      <th>count</th>\n",
       "      <td>4225.000000</td>\n",
       "      <td>4225.000000</td>\n",
       "      <td>4225.000000</td>\n",
       "      <td>4225.000000</td>\n",
       "      <td>4225.000000</td>\n",
       "      <td>4225.000000</td>\n",
       "      <td>4225.000000</td>\n",
       "      <td>4225.000000</td>\n",
       "      <td>4225.000000</td>\n",
       "      <td>4225.000000</td>\n",
       "      <td>...</td>\n",
       "      <td>4225.000000</td>\n",
       "      <td>4225.000000</td>\n",
       "      <td>4225.000000</td>\n",
       "      <td>4225.000000</td>\n",
       "      <td>4225.000000</td>\n",
       "      <td>4225.000000</td>\n",
       "      <td>4225.000000</td>\n",
       "      <td>4225.000000</td>\n",
       "      <td>4225.000000</td>\n",
       "      <td>4225.000000</td>\n",
       "    </tr>\n",
       "    <tr>\n",
       "      <th>mean</th>\n",
       "      <td>3483.374911</td>\n",
       "      <td>0.161893</td>\n",
       "      <td>32.500828</td>\n",
       "      <td>65.056142</td>\n",
       "      <td>2298.513598</td>\n",
       "      <td>0.508639</td>\n",
       "      <td>0.488521</td>\n",
       "      <td>0.306272</td>\n",
       "      <td>0.218462</td>\n",
       "      <td>0.289467</td>\n",
       "      <td>...</td>\n",
       "      <td>0.395503</td>\n",
       "      <td>0.593846</td>\n",
       "      <td>0.265325</td>\n",
       "      <td>0.216095</td>\n",
       "      <td>0.235503</td>\n",
       "      <td>0.439053</td>\n",
       "      <td>0.218462</td>\n",
       "      <td>0.217515</td>\n",
       "      <td>0.336805</td>\n",
       "      <td>0.224852</td>\n",
       "    </tr>\n",
       "    <tr>\n",
       "      <th>std</th>\n",
       "      <td>2035.901018</td>\n",
       "      <td>0.368397</td>\n",
       "      <td>24.532563</td>\n",
       "      <td>30.268493</td>\n",
       "      <td>2271.603284</td>\n",
       "      <td>0.499985</td>\n",
       "      <td>0.499927</td>\n",
       "      <td>0.460999</td>\n",
       "      <td>0.413251</td>\n",
       "      <td>0.453569</td>\n",
       "      <td>...</td>\n",
       "      <td>0.489016</td>\n",
       "      <td>0.491172</td>\n",
       "      <td>0.441559</td>\n",
       "      <td>0.411628</td>\n",
       "      <td>0.424363</td>\n",
       "      <td>0.496330</td>\n",
       "      <td>0.413251</td>\n",
       "      <td>0.412604</td>\n",
       "      <td>0.472673</td>\n",
       "      <td>0.417534</td>\n",
       "    </tr>\n",
       "    <tr>\n",
       "      <th>min</th>\n",
       "      <td>0.000000</td>\n",
       "      <td>0.000000</td>\n",
       "      <td>0.000000</td>\n",
       "      <td>18.250000</td>\n",
       "      <td>0.000000</td>\n",
       "      <td>0.000000</td>\n",
       "      <td>0.000000</td>\n",
       "      <td>0.000000</td>\n",
       "      <td>0.000000</td>\n",
       "      <td>0.000000</td>\n",
       "      <td>...</td>\n",
       "      <td>0.000000</td>\n",
       "      <td>0.000000</td>\n",
       "      <td>0.000000</td>\n",
       "      <td>0.000000</td>\n",
       "      <td>0.000000</td>\n",
       "      <td>0.000000</td>\n",
       "      <td>0.000000</td>\n",
       "      <td>0.000000</td>\n",
       "      <td>0.000000</td>\n",
       "      <td>0.000000</td>\n",
       "    </tr>\n",
       "    <tr>\n",
       "      <th>25%</th>\n",
       "      <td>1695.000000</td>\n",
       "      <td>0.000000</td>\n",
       "      <td>9.000000</td>\n",
       "      <td>35.650000</td>\n",
       "      <td>411.600000</td>\n",
       "      <td>0.000000</td>\n",
       "      <td>0.000000</td>\n",
       "      <td>0.000000</td>\n",
       "      <td>0.000000</td>\n",
       "      <td>0.000000</td>\n",
       "      <td>...</td>\n",
       "      <td>0.000000</td>\n",
       "      <td>0.000000</td>\n",
       "      <td>0.000000</td>\n",
       "      <td>0.000000</td>\n",
       "      <td>0.000000</td>\n",
       "      <td>0.000000</td>\n",
       "      <td>0.000000</td>\n",
       "      <td>0.000000</td>\n",
       "      <td>0.000000</td>\n",
       "      <td>0.000000</td>\n",
       "    </tr>\n",
       "    <tr>\n",
       "      <th>50%</th>\n",
       "      <td>3476.000000</td>\n",
       "      <td>0.000000</td>\n",
       "      <td>29.000000</td>\n",
       "      <td>70.400000</td>\n",
       "      <td>1401.150000</td>\n",
       "      <td>1.000000</td>\n",
       "      <td>0.000000</td>\n",
       "      <td>0.000000</td>\n",
       "      <td>0.000000</td>\n",
       "      <td>0.000000</td>\n",
       "      <td>...</td>\n",
       "      <td>0.000000</td>\n",
       "      <td>1.000000</td>\n",
       "      <td>0.000000</td>\n",
       "      <td>0.000000</td>\n",
       "      <td>0.000000</td>\n",
       "      <td>0.000000</td>\n",
       "      <td>0.000000</td>\n",
       "      <td>0.000000</td>\n",
       "      <td>0.000000</td>\n",
       "      <td>0.000000</td>\n",
       "    </tr>\n",
       "    <tr>\n",
       "      <th>75%</th>\n",
       "      <td>5224.000000</td>\n",
       "      <td>0.000000</td>\n",
       "      <td>55.000000</td>\n",
       "      <td>90.150000</td>\n",
       "      <td>3865.450000</td>\n",
       "      <td>1.000000</td>\n",
       "      <td>1.000000</td>\n",
       "      <td>1.000000</td>\n",
       "      <td>0.000000</td>\n",
       "      <td>1.000000</td>\n",
       "      <td>...</td>\n",
       "      <td>1.000000</td>\n",
       "      <td>1.000000</td>\n",
       "      <td>1.000000</td>\n",
       "      <td>0.000000</td>\n",
       "      <td>0.000000</td>\n",
       "      <td>1.000000</td>\n",
       "      <td>0.000000</td>\n",
       "      <td>0.000000</td>\n",
       "      <td>1.000000</td>\n",
       "      <td>0.000000</td>\n",
       "    </tr>\n",
       "    <tr>\n",
       "      <th>max</th>\n",
       "      <td>7042.000000</td>\n",
       "      <td>1.000000</td>\n",
       "      <td>72.000000</td>\n",
       "      <td>118.750000</td>\n",
       "      <td>8672.450000</td>\n",
       "      <td>1.000000</td>\n",
       "      <td>1.000000</td>\n",
       "      <td>1.000000</td>\n",
       "      <td>1.000000</td>\n",
       "      <td>1.000000</td>\n",
       "      <td>...</td>\n",
       "      <td>1.000000</td>\n",
       "      <td>1.000000</td>\n",
       "      <td>1.000000</td>\n",
       "      <td>1.000000</td>\n",
       "      <td>1.000000</td>\n",
       "      <td>1.000000</td>\n",
       "      <td>1.000000</td>\n",
       "      <td>1.000000</td>\n",
       "      <td>1.000000</td>\n",
       "      <td>1.000000</td>\n",
       "    </tr>\n",
       "  </tbody>\n",
       "</table>\n",
       "<p>8 rows × 23 columns</p>\n",
       "</div>"
      ],
      "text/plain": [
       "        Unnamed: 0  senior_citizen       tenure  monthly_charges  \\\n",
       "count  4225.000000     4225.000000  4225.000000      4225.000000   \n",
       "mean   3483.374911        0.161893    32.500828        65.056142   \n",
       "std    2035.901018        0.368397    24.532563        30.268493   \n",
       "min       0.000000        0.000000     0.000000        18.250000   \n",
       "25%    1695.000000        0.000000     9.000000        35.650000   \n",
       "50%    3476.000000        0.000000    29.000000        70.400000   \n",
       "75%    5224.000000        0.000000    55.000000        90.150000   \n",
       "max    7042.000000        1.000000    72.000000       118.750000   \n",
       "\n",
       "       total_charges  gender_Male  partner_Yes  dependents_Yes  \\\n",
       "count    4225.000000  4225.000000  4225.000000     4225.000000   \n",
       "mean     2298.513598     0.508639     0.488521        0.306272   \n",
       "std      2271.603284     0.499985     0.499927        0.460999   \n",
       "min         0.000000     0.000000     0.000000        0.000000   \n",
       "25%       411.600000     0.000000     0.000000        0.000000   \n",
       "50%      1401.150000     1.000000     0.000000        0.000000   \n",
       "75%      3865.450000     1.000000     1.000000        1.000000   \n",
       "max      8672.450000     1.000000     1.000000        1.000000   \n",
       "\n",
       "       tech_support_No internet service  tech_support_Yes  ...  \\\n",
       "count                       4225.000000       4225.000000  ...   \n",
       "mean                           0.218462          0.289467  ...   \n",
       "std                            0.413251          0.453569  ...   \n",
       "min                            0.000000          0.000000  ...   \n",
       "25%                            0.000000          0.000000  ...   \n",
       "50%                            0.000000          0.000000  ...   \n",
       "75%                            0.000000          1.000000  ...   \n",
       "max                            1.000000          1.000000  ...   \n",
       "\n",
       "       streaming_movies_Yes  paperless_billing_Yes    churn_Yes  \\\n",
       "count           4225.000000            4225.000000  4225.000000   \n",
       "mean               0.395503               0.593846     0.265325   \n",
       "std                0.489016               0.491172     0.441559   \n",
       "min                0.000000               0.000000     0.000000   \n",
       "25%                0.000000               0.000000     0.000000   \n",
       "50%                0.000000               1.000000     0.000000   \n",
       "75%                1.000000               1.000000     1.000000   \n",
       "max                1.000000               1.000000     1.000000   \n",
       "\n",
       "       contract_type_One year  contract_type_Two year  fiber_optic  \\\n",
       "count             4225.000000             4225.000000  4225.000000   \n",
       "mean                 0.216095                0.235503     0.439053   \n",
       "std                  0.411628                0.424363     0.496330   \n",
       "min                  0.000000                0.000000     0.000000   \n",
       "25%                  0.000000                0.000000     0.000000   \n",
       "50%                  0.000000                0.000000     0.000000   \n",
       "75%                  0.000000                0.000000     1.000000   \n",
       "max                  1.000000                1.000000     1.000000   \n",
       "\n",
       "       internet_service_type_None  payment_type_Credit card (automatic)  \\\n",
       "count                 4225.000000                           4225.000000   \n",
       "mean                     0.218462                              0.217515   \n",
       "std                      0.413251                              0.412604   \n",
       "min                      0.000000                              0.000000   \n",
       "25%                      0.000000                              0.000000   \n",
       "50%                      0.000000                              0.000000   \n",
       "75%                      0.000000                              0.000000   \n",
       "max                      1.000000                              1.000000   \n",
       "\n",
       "       electronic_check  payment_type_Mailed check  \n",
       "count       4225.000000                4225.000000  \n",
       "mean           0.336805                   0.224852  \n",
       "std            0.472673                   0.417534  \n",
       "min            0.000000                   0.000000  \n",
       "25%            0.000000                   0.000000  \n",
       "50%            0.000000                   0.000000  \n",
       "75%            1.000000                   0.000000  \n",
       "max            1.000000                   1.000000  \n",
       "\n",
       "[8 rows x 23 columns]"
      ]
     },
     "execution_count": 4,
     "metadata": {},
     "output_type": "execute_result"
    }
   ],
   "source": [
    "train.describe()"
   ]
  },
  {
   "cell_type": "markdown",
   "id": "8d2f6eeb-6226-4091-a869-56950471443d",
   "metadata": {},
   "source": [
    "## Exploration"
   ]
  },
  {
   "cell_type": "markdown",
   "id": "ff2352d5-1b7d-403a-9fef-a4b7981220f7",
   "metadata": {},
   "source": [
    "* I divided all the features in related groups for charting and evaluations\n",
    "* All features independently charted against churn\n",
    "* alpha =.05 for all satistics ran\n",
    "* For Relevant catagorical features $\\chi^2$ was used\n",
    "* For numerical features T-tests were used"
   ]
  },
  {
   "cell_type": "markdown",
   "id": "f4410da8-55bc-4b3f-bad7-04b1188e60e3",
   "metadata": {},
   "source": [
    "### 1. Do any of the demographic features provide relevant preditive value for churn?"
   ]
  },
  {
   "cell_type": "code",
   "execution_count": 5,
   "id": "d96f2084-f1df-49cd-940e-b39912484a55",
   "metadata": {},
   "outputs": [
    {
     "data": {
      "image/png": "[encoded data removed]",
      "text/plain": [
       "<Figure size 1400x500 with 2 Axes>"
      ]
     },
     "metadata": {},
     "output_type": "display_data"
    }
   ],
   "source": [
    "# Get visualizaions\n",
    "explore.get_charts_demographics(train)"
   ]
  },
  {
   "cell_type": "markdown",
   "id": "adf54ddb-4e56-4261-ae34-edf219e68783",
   "metadata": {},
   "source": [
    "#### Charting Observations: Demographic Features\n",
    "* gender appears to have no impact\n",
    "* senior citizens appear to churn less\n",
    "    * however, they only make up 16.21% of observation making it an unreliable predictor over all"
   ]
  },
  {
   "cell_type": "markdown",
   "id": "0895d051-3818-49a2-b7ee-07a5034004da",
   "metadata": {},
   "source": [
    "####  Statistics: Demographics\n",
    "Lets use $\\chi^2$ for remaining demographics: partner and dependents\n",
    "* I will use a confidence interval of 95%\n",
    "* The resulting alpha is .05"
   ]
  },
  {
   "cell_type": "markdown",
   "id": "beb16610-d2de-4c59-9abb-73b6a1deae37",
   "metadata": {},
   "source": [
    "##### Hypothisis for partner (marital status)\n",
    "$H_0$ : Churn is independent of marital status<br>\n",
    "$H_a$ : Churn is dependent of marital status"
   ]
  },
  {
   "cell_type": "code",
   "execution_count": 6,
   "id": "dd905e8c-e66d-4c3f-b6e0-54369635cc04",
   "metadata": {},
   "outputs": [
    {
     "name": "stdout",
     "output_type": "stream",
     "text": [
      "alpha = 0.05\n",
      "chi^2 = 106.6312\n",
      "p-value = 0.0000\n",
      "Since the p-value is less than alpha, there exists some relationship between churn and the partner.\n",
      " Therefore, we reject the Ho\n"
     ]
    }
   ],
   "source": [
    "# Running stat test\n",
    "explore.get_partner_chi(train)"
   ]
  },
  {
   "cell_type": "markdown",
   "id": "b1c77410-246e-4f99-b19c-5f8352cf4b12",
   "metadata": {},
   "source": [
    "##### Hypothisis for dependents\n",
    "$H_0$ : Churn is independent on whether or not customers have dependents<br>\n",
    "$H_a$ : Churn is dependent on whether or not customers have dependents"
   ]
  },
  {
   "cell_type": "code",
   "execution_count": 7,
   "id": "4d43d87b-5b59-43ee-a482-79c835b0af10",
   "metadata": {},
   "outputs": [
    {
     "name": "stdout",
     "output_type": "stream",
     "text": [
      "alpha = 0.05\n",
      "chi^2 = 111.7405\n",
      "p-value = 0.0000\n",
      "Since the p-value is less than alpha, there exists some relationship between churn and the dependents.\n",
      " Therefore, we reject the Ho\n"
     ]
    }
   ],
   "source": [
    "# Running stat test\n",
    "explore.get_dependents_chi(train)"
   ]
  },
  {
   "cell_type": "markdown",
   "id": "af9f6edf-f09c-4a95-8199-5d0649f54a35",
   "metadata": {},
   "source": [
    "#### Result\n",
    "Based on the results of the $\\chi^2$ and the observation of the charts I belive te demographic features 'dependents' and 'partner' are statisically relevant and will have some positive impact on the model."
   ]
  },
  {
   "cell_type": "markdown",
   "id": "32f2fd68-bee8-443b-bd6a-3e086245332f",
   "metadata": {},
   "source": [
    "### 2. Do catagorical customer account features provide relevant predictive value for churn?"
   ]
  },
  {
   "cell_type": "code",
   "execution_count": 8,
   "id": "4499b706-c3fb-42bd-81a0-2574b1c0ffc6",
   "metadata": {},
   "outputs": [
    {
     "data": {
      "image/png": "[encoded data removed]",
      "text/plain": [
       "<Figure size 1400x500 with 2 Axes>"
      ]
     },
     "metadata": {},
     "output_type": "display_data"
    }
   ],
   "source": [
    "# Get visualizaions\n",
    "explore.get_charts_cat_account(train)"
   ]
  },
  {
   "cell_type": "markdown",
   "id": "07d14325-5b36-408e-beba-75908aca045a",
   "metadata": {},
   "source": [
    "#### Charting Observations: Catagorical Account Info\n",
    "* Month-to-month contracts have higher churn rates compared to clients with yearly contracts\n",
    "    * This makes since contracts create a barrier to churn \n",
    "    * This option is not likely to go away, but there is cause to promote contracts to M2M customers\n",
    "* Customers with electronic check as paying method are more likely to leave the company\n",
    "    * Other payment types are all the same\n",
    "* Customers with paperless billing churn more often"
   ]
  },
  {
   "cell_type": "markdown",
   "id": "d2e93df9-50ec-4460-9ee6-1b49e9c735e1",
   "metadata": {},
   "source": [
    "#### Statistics: Catagorical Customer Account Information \n",
    "Lets use $\\chi^2$ on the remaining features: paperless_billing and payment_type_electronic_check\n",
    "* I will use a confidence interval of 95%\n",
    "* The resulting alpha is .05"
   ]
  },
  {
   "cell_type": "markdown",
   "id": "f0d0046d-ea82-4d92-9358-be447a4848fe",
   "metadata": {},
   "source": [
    "##### Hypothisis for paperless_billing\n",
    "$H_0$ : Churn is independent of paperless_billing<br>\n",
    "$H_a$ : Churn is dependent of paperless_billing"
   ]
  },
  {
   "cell_type": "code",
   "execution_count": 9,
   "id": "3dc32ae8-9da5-4a31-84a3-5dd1aad5c7d1",
   "metadata": {},
   "outputs": [
    {
     "name": "stdout",
     "output_type": "stream",
     "text": [
      "alpha = 0.05\n",
      "chi^2 = 148.5845\n",
      "p-value = 0.0000\n",
      "Since the p-value is less than alpha, there exists some relationship between churn and the paperless_billing.\n",
      " Therefore, we reject the Ho\n"
     ]
    }
   ],
   "source": [
    "# Running stat test\n",
    "explore.get_paperless_billing_chi(train)"
   ]
  },
  {
   "cell_type": "markdown",
   "id": "c9724d41-9c89-48a6-ba55-a67a1c894590",
   "metadata": {},
   "source": [
    "##### Hypothisis for electronic_check\n",
    "$H_0$ : Churn is independent of electronic_check<br>\n",
    "$H_a$ : Churn is dependent of electronic_check"
   ]
  },
  {
   "cell_type": "code",
   "execution_count": 10,
   "id": "0d6fa9d2-c81e-411b-8ef2-7a6e0f0196d6",
   "metadata": {},
   "outputs": [
    {
     "name": "stdout",
     "output_type": "stream",
     "text": [
      "alpha = 0.05\n",
      "chi^2 = 381.5760\n",
      "p-value = 0.0000\n",
      "Since the p-value is less than alpha, there exists some relationship between churn and the electronic_check.\n",
      " Therefore, we reject the Ho\n"
     ]
    }
   ],
   "source": [
    "# Running stat test\n",
    "explore.get_electronic_check_chi(train)         "
   ]
  },
  {
   "cell_type": "markdown",
   "id": "9316f6ad-b216-4e90-9603-f32de0ec04e9",
   "metadata": {},
   "source": [
    "#### Result\n",
    "* Based on the results of the $\\chi^2$ and the observation of the charts I belive te demographic features 'paperless_billing' and 'electronic_check' are statisically relevant will have some positive impact on the model."
   ]
  },
  {
   "cell_type": "markdown",
   "id": "64726d7d-8fff-4083-8411-b0f6f7f5ce43",
   "metadata": {},
   "source": [
    "### 3. Do numerical customer account features provide relevant predictive value for churn?"
   ]
  },
  {
   "cell_type": "code",
   "execution_count": 11,
   "id": "b3834665-74fb-41fc-aa4e-b02921d651d6",
   "metadata": {},
   "outputs": [
    {
     "data": {
      "image/png": "[encoded data removed]",
      "text/plain": [
       "<Figure size 1200x1000 with 3 Axes>"
      ]
     },
     "metadata": {},
     "output_type": "display_data"
    }
   ],
   "source": [
    "# Get visualizaions\n",
    "explore.get_charts_num_account(train)"
   ]
  },
  {
   "cell_type": "markdown",
   "id": "3dc41ee5-c801-46fc-8c86-f73480a27ca9",
   "metadata": {},
   "source": [
    "#### Chart Observations: Numerical Customer Account Information\n",
    "* High monthly charges appear to lead to higher churn rates\n",
    "* New customers apper to churn faster than long term customers\n",
    "* High total charges appear to have lower churn rates\n",
    "    * this is likely due to tenure of these customers more so than the higher charges \n",
    "    * total_charges is also a result of customer tenure, so we can ignore this feature"
   ]
  },
  {
   "cell_type": "markdown",
   "id": "a6b378c8-cc98-4ee7-b79b-ada5b3904c05",
   "metadata": {},
   "source": [
    "#### Statistics: Numerical Customer Account Information\n",
    "Lets do some T-stats for the remaining features: tenure and monthly charges\n",
    "* I will use a confidence interval of 95%\n",
    "* The resulting alpha is .05"
   ]
  },
  {
   "cell_type": "markdown",
   "id": "b7780a2f-2e80-4f5b-a18f-d7da80c99abb",
   "metadata": {},
   "source": [
    "##### Hypothisis for tenure\n",
    "Churn is catagorical, and tenure is a continuous number features so lets do a One Sample T-Test<br>\n",
    "$H_0$ : The mean tenure of churned customers is = the mean tenure of all churned customers<br>\n",
    "$H_a$ : The mean tenure of churned customers is != the mean tenure of all churned customers"
   ]
  },
  {
   "cell_type": "code",
   "execution_count": 12,
   "id": "ba2853e5-cf95-4fe8-ba20-a7f4a5e689d6",
   "metadata": {},
   "outputs": [
    {
     "name": "stdout",
     "output_type": "stream",
     "text": [
      "t-score = -24.280881230430392, p-value = 5.680256511980203e-105\n",
      "Since the p-value is not equal to alpha, we reject Null Hypothisis\n",
      " There is a significant relationship between churn and tenure \n"
     ]
    }
   ],
   "source": [
    "# Running t-stat test\n",
    "explore.get_tenure_tstat(train)"
   ]
  },
  {
   "cell_type": "markdown",
   "id": "2023eaa5-59dd-4987-91fe-9e9f9644e996",
   "metadata": {},
   "source": [
    "##### Hypothisis for monthly_charges\n",
    "Churn is catagorical, and tenure is a continuous number features so lets do a One Sample T-Test <br>\n",
    "$H_0$ : Mean of monthly charges of churned customers <= Mean of monthly charges of all customers<br>\n",
    "$H_a$ : Mean of monthly charges of churned customers > Mean of monthly charges of all customers"
   ]
  },
  {
   "cell_type": "code",
   "execution_count": 13,
   "id": "7a3867f6-7d5f-4ee2-b8e6-57d781a366cc",
   "metadata": {},
   "outputs": [
    {
     "name": "stdout",
     "output_type": "stream",
     "text": [
      "t=12.65294490503547, p/2 = 1.0740986591134452e-34\n",
      "Since p/2 > alpha and t < 0 We reject Null Hypothisis\n",
      "  There is a significant relationship between churn and monthly_charges\n"
     ]
    }
   ],
   "source": [
    "# Running t-stat test\n",
    "explore.get_monthly_charges_ttest(train)"
   ]
  },
  {
   "cell_type": "markdown",
   "id": "b2404ac3-19d5-4dc3-8a3f-ee85b5e57764",
   "metadata": {},
   "source": [
    "#### Result\n",
    "* Based on the results from the One Sample T-Test's and the charts, I belive numerical customer account features 'tenure' and 'monthly_charges' will have some positive effect on the model"
   ]
  },
  {
   "cell_type": "markdown",
   "id": "cfa04963-0b3f-4ba3-8e3f-84c0fc4717f9",
   "metadata": {
    "tags": []
   },
   "source": [
    "### 4. Do any of the service features provide relevant predictive value for churn? "
   ]
  },
  {
   "cell_type": "code",
   "execution_count": 14,
   "id": "7e76c1fa-4395-469e-a6fe-f538f1902fad",
   "metadata": {},
   "outputs": [
    {
     "data": {
      "image/png": "[encoded data removed]",
      "text/plain": [
       "<Figure size 1400x500 with 2 Axes>"
      ]
     },
     "metadata": {},
     "output_type": "display_data"
    }
   ],
   "source": [
    "# Get visualizaions\n",
    "explore.get_charts_services(train)"
   ]
  },
  {
   "cell_type": "markdown",
   "id": "38644e18-2e7d-4daf-941a-0d3e74185812",
   "metadata": {},
   "source": [
    "#### Chart Observations: Service Information\n",
    "* phone related features seem to have no real predictive value for churn rates\n",
    "* Not having tech support seems to indicate higher churn rates\n",
    "* Fiber optic customers apperar to churn at a higher rate\n",
    "* The other features appear to have a similar minimal impact on churn rates \n",
    "    * these features all have similar effects, perhaps they are all packaged together\n",
    "    * so I will ignore them for now"
   ]
  },
  {
   "cell_type": "markdown",
   "id": "d5d3f5b4-605f-4bb8-ba02-17510d026856",
   "metadata": {},
   "source": [
    "####  Statistics: Service Features\n",
    "Lets use $\\chi^2$ for remaining service features: internet_service_type_fiber_optic and tech_support_Yes\n",
    "* I will use a confidence interval of 95%\n",
    "* The resulting alpha is .05"
   ]
  },
  {
   "cell_type": "markdown",
   "id": "f71a5a50-8a23-477d-a6f8-0d89d8dae8d1",
   "metadata": {},
   "source": [
    "#### Hypothisis for tech_support_Yes\n",
    "$H_0$ : Churn is independent of tech_support_Yes<br>\n",
    "$H_a$ : Churn is dependent of tech_support_Yes"
   ]
  },
  {
   "cell_type": "code",
   "execution_count": 15,
   "id": "03d8345d-41d7-4659-b7ce-d0de16c57126",
   "metadata": {},
   "outputs": [
    {
     "name": "stdout",
     "output_type": "stream",
     "text": [
      "alpha = 0.05\n",
      "chi^2 = 98.2309\n",
      "p-value = 0.0000\n",
      "Since the p-value is less than alpha, there exists some relationship between churn and the tech_support_Yes.\n",
      " Therefore, we reject the Ho\n"
     ]
    }
   ],
   "source": [
    "# Running stat test\n",
    "explore.get_tech_support_Yes_chi(train)"
   ]
  },
  {
   "cell_type": "markdown",
   "id": "b556e5a5-e47b-4af6-bc38-b5aa04a47568",
   "metadata": {
    "tags": []
   },
   "source": [
    "#### Hypothisis for internet_service_type_fiber_optic\n",
    "$H_0$ : Churn is independent of internet_service_type_fiber_optic<br>\n",
    "$H_a$ : Churn is dependent of internet_service_type_fiber_optic"
   ]
  },
  {
   "cell_type": "code",
   "execution_count": 16,
   "id": "a175b165-5dd4-4c4f-bcd9-20406d338692",
   "metadata": {},
   "outputs": [
    {
     "name": "stdout",
     "output_type": "stream",
     "text": [
      "alpha = 0.05\n",
      "chi^2 = 387.4117\n",
      "p-value = 0.0000\n",
      "Since the p-value is less than alpha, there exists some relationship between churn and the fiber_optic.\n",
      " Therefore, we reject the Ho\n"
     ]
    }
   ],
   "source": [
    "# Running stat test\n",
    "explore.get_fiber_optic_chi(train)"
   ]
  },
  {
   "cell_type": "markdown",
   "id": "b57943d2-3edd-46de-8a43-b85c9ffb0c0d",
   "metadata": {},
   "source": [
    "#### Result\n",
    "* Based on the results of the $\\chi^2$ and the observation of the charts I belive te demographic features 'fiber_optic' and 'tech_support_Yes' will have some positive impact on the model."
   ]
  },
  {
   "cell_type": "markdown",
   "id": "593736ce-4878-4340-b518-c74002fff7df",
   "metadata": {},
   "source": [
    "## Exploration Summary\n",
    "* No single group were excluvily predictive\n",
    "* A combination of relevant features from each group should create a predictive model"
   ]
  },
  {
   "cell_type": "markdown",
   "id": "5400eb4b-252e-42b1-b6a6-13ae4cdd699c",
   "metadata": {},
   "source": [
    "### Features I am moving to modeling With\n",
    "* 'tenure' (statistically relevent and will have a large on the model)\n",
    "* 'monthly_charges' (statistically relevent and will have a modest impact on the model)\n",
    "* 'partner_Yes' (statistically relevent and will have a minor positive impact on the model)\n",
    "* 'dependents_Yes' (statistically relevent and will have a minor positive impact on the model)\n",
    "* 'tech_support_Yes' (statistically relevent and will have a large on the model)\n",
    "* 'fiber_optic' (statistically relevent and will have a large on the model)\n",
    "* 'electronic_check' (statistically relevent and will have a modest impact on the model)"
   ]
  },
  {
   "cell_type": "markdown",
   "id": "b758e296-9a83-4fbb-bb25-a94e54ce332c",
   "metadata": {},
   "source": [
    "### Features I'm not moving to modeling with\n",
    "* 'gender' (appears to be completly independent of churn)\n",
    "* 'phone_service' (appears to be completly independent of churn)\n",
    "* 'muliple_lines' (appears to be completly independent of churn)\n",
    "* 'contract_type' (while month to month clients churn more frequently, this option is not going away so we will ignore contract stuctures)\n",
    "* 'payment_type' (of all payment options only e-checks showed a relationship to churm different from the others, so all others are ignored)\n",
    "* 'total_charges' (this is a function of tenure and monthly_payments, so it is ignored)\n",
    "* 'online_security'(all add on services appear to have the same relationship to churn, and are perhaps included as a bundle, if so they would have an over weighted value in a model, thus they are ignored)\n",
    "* 'online_backup' (all add on services appear to have the same relationship to churn, and are perhaps included as a bundle, if so they would have an over weighted value in a model, thus they are ignored)\n",
    "* 'device_protection' (all add on services appear to have the same relationship to churn, and are perhaps included as a bundle, if so they would have an over weighted value in a model, thus they are ignored)\n",
    "* 'streaming_tv' (all add on services appear to have the same relationship to churn, and are perhaps included as a bundle, if so they would have an over weighted value in a model, thus they are ignored)\n",
    "* 'streaming_movies' (all add on services appear to have the same relationship to churn, and are perhaps included as a bundle, if so they would have an over weighted value in a model, thus they are ignored)\n"
   ]
  },
  {
   "cell_type": "markdown",
   "id": "1dd3b326-7610-43c9-9807-bb4ef42a36a5",
   "metadata": {},
   "source": [
    "## Modeling"
   ]
  },
  {
   "cell_type": "markdown",
   "id": "2db4285f-451a-4b5c-9482-e97f60e3c303",
   "metadata": {},
   "source": [
    "### Introduction\n",
    "* I will be observing the accurracy and the recall of four models\n",
    "* Recall will be the primary evaluation metric \n",
    "    * For Telco the cost of a false negative is greater than a false positives \n",
    "    * False negative being that did not spend the money on a customer that then churned.\n",
    "    * False positives increase retention cost on customer that would not have churned, \n",
    "    * Cost of lost Future monthly revenue excedes retention cost"
   ]
  },
  {
   "cell_type": "markdown",
   "id": "28c6e133-7253-48d5-98fd-1fb2a530ae70",
   "metadata": {},
   "source": [
    "#### Baseline \n",
    "* By guessing no churn for all customers we could achieve \n",
    "    * baselines of 73.47% for accuracy and 0% fro recall"
   ]
  },
  {
   "cell_type": "code",
   "execution_count": 17,
   "id": "3d2fd75b-5d4c-4b17-be31-60471ffd1f01",
   "metadata": {},
   "outputs": [
    {
     "data": {
      "text/html": [
       "<div>\n",
       "<style scoped>\n",
       "    .dataframe tbody tr th:only-of-type {\n",
       "        vertical-align: middle;\n",
       "    }\n",
       "\n",
       "    .dataframe tbody tr th {\n",
       "        vertical-align: top;\n",
       "    }\n",
       "\n",
       "    .dataframe thead th {\n",
       "        text-align: right;\n",
       "    }\n",
       "</style>\n",
       "<table border=\"1\" class=\"dataframe\">\n",
       "  <thead>\n",
       "    <tr style=\"text-align: right;\">\n",
       "      <th></th>\n",
       "      <th>Metric</th>\n",
       "      <th>Score</th>\n",
       "    </tr>\n",
       "  </thead>\n",
       "  <tbody>\n",
       "    <tr>\n",
       "      <th>0</th>\n",
       "      <td>Accuracy</td>\n",
       "      <td>0.734675</td>\n",
       "    </tr>\n",
       "    <tr>\n",
       "      <th>1</th>\n",
       "      <td>Recall</td>\n",
       "      <td>0.000000</td>\n",
       "    </tr>\n",
       "  </tbody>\n",
       "</table>\n",
       "</div>"
      ],
      "text/plain": [
       "     Metric     Score\n",
       "0  Accuracy  0.734675\n",
       "1    Recall  0.000000"
      ]
     },
     "execution_count": 17,
     "metadata": {},
     "output_type": "execute_result"
    }
   ],
   "source": [
    "# get baseline accuracy and recall\n",
    "explore.get_baselines()"
   ]
  },
  {
   "cell_type": "markdown",
   "id": "afd37995-21a0-4ff7-9f26-7e71ebb116d2",
   "metadata": {},
   "source": [
    "### Four Models"
   ]
  },
  {
   "cell_type": "code",
   "execution_count": 18,
   "id": "f65123f7-fc59-4b3c-8fa7-ff67fabc8e38",
   "metadata": {},
   "outputs": [
    {
     "data": {
      "text/html": [
       "<div>\n",
       "<style scoped>\n",
       "    .dataframe tbody tr th:only-of-type {\n",
       "        vertical-align: middle;\n",
       "    }\n",
       "\n",
       "    .dataframe tbody tr th {\n",
       "        vertical-align: top;\n",
       "    }\n",
       "\n",
       "    .dataframe thead th {\n",
       "        text-align: right;\n",
       "    }\n",
       "</style>\n",
       "<table border=\"1\" class=\"dataframe\">\n",
       "  <thead>\n",
       "    <tr style=\"text-align: right;\">\n",
       "      <th></th>\n",
       "      <th>model</th>\n",
       "      <th>set</th>\n",
       "      <th>accuracy</th>\n",
       "      <th>recall</th>\n",
       "    </tr>\n",
       "  </thead>\n",
       "  <tbody>\n",
       "    <tr>\n",
       "      <th>0</th>\n",
       "      <td>k_nearest_neighbors</td>\n",
       "      <td>train</td>\n",
       "      <td>0.789586</td>\n",
       "      <td>0.452275</td>\n",
       "    </tr>\n",
       "    <tr>\n",
       "      <th>1</th>\n",
       "      <td>k_nearest_neighbors</td>\n",
       "      <td>validate</td>\n",
       "      <td>0.791341</td>\n",
       "      <td>0.451872</td>\n",
       "    </tr>\n",
       "    <tr>\n",
       "      <th>2</th>\n",
       "      <td>logistic_regression</td>\n",
       "      <td>train</td>\n",
       "      <td>0.787219</td>\n",
       "      <td>0.452275</td>\n",
       "    </tr>\n",
       "    <tr>\n",
       "      <th>3</th>\n",
       "      <td>logistic_regression</td>\n",
       "      <td>validate</td>\n",
       "      <td>0.786373</td>\n",
       "      <td>0.457219</td>\n",
       "    </tr>\n",
       "    <tr>\n",
       "      <th>4</th>\n",
       "      <td>DecisionTreeClassifier</td>\n",
       "      <td>train</td>\n",
       "      <td>0.786982</td>\n",
       "      <td>0.377342</td>\n",
       "    </tr>\n",
       "    <tr>\n",
       "      <th>5</th>\n",
       "      <td>DecisionTreeClassifier</td>\n",
       "      <td>validate</td>\n",
       "      <td>0.792761</td>\n",
       "      <td>0.390374</td>\n",
       "    </tr>\n",
       "    <tr>\n",
       "      <th>6</th>\n",
       "      <td>random_forest</td>\n",
       "      <td>train</td>\n",
       "      <td>0.784852</td>\n",
       "      <td>0.339875</td>\n",
       "    </tr>\n",
       "    <tr>\n",
       "      <th>7</th>\n",
       "      <td>random_forest</td>\n",
       "      <td>validate</td>\n",
       "      <td>0.786373</td>\n",
       "      <td>0.334225</td>\n",
       "    </tr>\n",
       "  </tbody>\n",
       "</table>\n",
       "</div>"
      ],
      "text/plain": [
       "                    model       set  accuracy    recall\n",
       "0     k_nearest_neighbors     train  0.789586  0.452275\n",
       "1     k_nearest_neighbors  validate  0.791341  0.451872\n",
       "2     logistic_regression     train  0.787219  0.452275\n",
       "3     logistic_regression  validate  0.786373  0.457219\n",
       "4  DecisionTreeClassifier     train  0.786982  0.377342\n",
       "5  DecisionTreeClassifier  validate  0.792761  0.390374\n",
       "6           random_forest     train  0.784852  0.339875\n",
       "7           random_forest  validate  0.786373  0.334225"
      ]
     },
     "execution_count": 18,
     "metadata": {},
     "output_type": "execute_result"
    }
   ],
   "source": [
    "# running 4 models with preped data for modeling, retuning accuracy and recall \n",
    "explore.get_models()"
   ]
  },
  {
   "cell_type": "markdown",
   "id": "b61a3bef-668e-4f41-a397-2ce21a8f353a",
   "metadata": {},
   "source": [
    "### Model Selection\n",
    "* All Models gave gave very similar results\n",
    "    * All out performed the baseline\n",
    "    * Logistic Regression gave the highest Recall on the validation set\n",
    "* I will use the Logistic Regression model for the unseen Test data"
   ]
  },
  {
   "cell_type": "markdown",
   "id": "75dfba30-68c8-4f7f-a8ce-2c2cda2d4841",
   "metadata": {},
   "source": [
    "### Test Model: Logistic Regression\n"
   ]
  },
  {
   "cell_type": "code",
   "execution_count": 19,
   "id": "ac217979-b3c3-4de4-a8e3-60623ed47401",
   "metadata": {},
   "outputs": [
    {
     "data": {
      "text/html": [
       "<div>\n",
       "<style scoped>\n",
       "    .dataframe tbody tr th:only-of-type {\n",
       "        vertical-align: middle;\n",
       "    }\n",
       "\n",
       "    .dataframe tbody tr th {\n",
       "        vertical-align: top;\n",
       "    }\n",
       "\n",
       "    .dataframe thead th {\n",
       "        text-align: right;\n",
       "    }\n",
       "</style>\n",
       "<table border=\"1\" class=\"dataframe\">\n",
       "  <thead>\n",
       "    <tr style=\"text-align: right;\">\n",
       "      <th></th>\n",
       "      <th>Model</th>\n",
       "      <th>Accuracy</th>\n",
       "      <th>Recall</th>\n",
       "    </tr>\n",
       "  </thead>\n",
       "  <tbody>\n",
       "    <tr>\n",
       "      <th>0</th>\n",
       "      <td>Logistic Regression</td>\n",
       "      <td>0.811923</td>\n",
       "      <td>0.52139</td>\n",
       "    </tr>\n",
       "  </tbody>\n",
       "</table>\n",
       "</div>"
      ],
      "text/plain": [
       "                 Model  Accuracy   Recall\n",
       "0  Logistic Regression  0.811923  0.52139"
      ]
     },
     "execution_count": 19,
     "metadata": {},
     "output_type": "execute_result"
    }
   ],
   "source": [
    "explore.get_test_model()"
   ]
  },
  {
   "cell_type": "markdown",
   "id": "a8278fe0-2e9a-4dc3-96a8-5d012f8649d6",
   "metadata": {},
   "source": [
    "### Modeling Wrap \n",
    "* On the test set the model returned a Recall of 52.14% far exceeding the baseline\n",
    "    * for Reference the Acurracy exceeded the baseline by 7.72%\n",
    "* This model should be used in production"
   ]
  },
  {
   "cell_type": "markdown",
   "id": "2e9ef6dd-7a7e-40e8-90e3-52fbb6246213",
   "metadata": {},
   "source": [
    "## Conclusion\n",
    "\n",
    "### Summery\n",
    "* After evaluating each group of features only a few proved useful for our model\n",
    "* Recall proved the best metric for evaluating various models created \n",
    "* By combining the relevant features into a series of models I found a the linear regression model was best\n",
    "\n",
    "### Recommendations\n",
    "* Implement the model provided and\n",
    "* Work with marketing to form campaigns to reduce the churn rate for the company\n",
    "* These programs can be offered to seperate test markets and later be evaluated to determine which is best\n",
    "* Investigate reason for fiber optic customers without tech support churning faster than others\n",
    "\n",
    "### Next Steps\n",
    "* If provided more time to work on the project I would want to explore which month costomers tend to churn after converting to a month-to-month contract. This could provide insight into when is the best time to start retintion campaigns. "
   ]
  },
  {
   "cell_type": "code",
   "execution_count": null,
   "id": "411ae7a4-00b8-4623-a1e1-ddc644197a30",
   "metadata": {},
   "outputs": [],
   "source": []
  }
 ],
 "metadata": {
  "kernelspec": {
   "display_name": "Python 3 (ipykernel)",
   "language": "python",
   "name": "python3"
  },
  "language_info": {
   "codemirror_mode": {
    "name": "ipython",
    "version": 3
   },
   "file_extension": ".py",
   "mimetype": "text/x-python",
   "name": "python",
   "nbconvert_exporter": "python",
   "pygments_lexer": "ipython3",
   "version": "3.9.13"
  },
  "toc-autonumbering": false
 },
 "nbformat": 4,
 "nbformat_minor": 5
}
